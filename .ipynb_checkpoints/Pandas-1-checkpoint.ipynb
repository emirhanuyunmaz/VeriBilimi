{
 "cells": [
  {
   "cell_type": "code",
   "execution_count": 1,
   "id": "a688302f",
   "metadata": {},
   "outputs": [],
   "source": [
    "import pandas as pd\n",
    "import numpy as np"
   ]
  },
  {
   "cell_type": "markdown",
   "id": "6f52b047",
   "metadata": {},
   "source": [
    "## series / seriler"
   ]
  },
  {
   "cell_type": "code",
   "execution_count": 2,
   "id": "7f10933e",
   "metadata": {},
   "outputs": [],
   "source": [
    "benimSozlugum = {\"emirhan\" : 23 , \"Ayşe\" : 24 , \"Zeynep\" : 22}"
   ]
  },
  {
   "cell_type": "code",
   "execution_count": 3,
   "id": "b955a2ca",
   "metadata": {},
   "outputs": [
    {
     "data": {
      "text/plain": [
       "emirhan    23\n",
       "Ayşe       24\n",
       "Zeynep     22\n",
       "dtype: int64"
      ]
     },
     "execution_count": 3,
     "metadata": {},
     "output_type": "execute_result"
    }
   ],
   "source": [
    "pd.Series(benimSozlugum)"
   ]
  },
  {
   "cell_type": "code",
   "execution_count": 4,
   "id": "55dee268",
   "metadata": {},
   "outputs": [
    {
     "data": {
      "text/plain": [
       "pandas.core.series.Series"
      ]
     },
     "execution_count": 4,
     "metadata": {},
     "output_type": "execute_result"
    }
   ],
   "source": [
    "type(pd.Series(benimSozlugum))"
   ]
  },
  {
   "cell_type": "code",
   "execution_count": 5,
   "id": "1c5594bb",
   "metadata": {},
   "outputs": [],
   "source": [
    "benimYaslarim = [23,24,22]\n",
    "benimIsimlerim = [\"emirhan\" , \"Ayşe\" ,\"Zeynep\"]"
   ]
  },
  {
   "cell_type": "code",
   "execution_count": 6,
   "id": "f9453aa6",
   "metadata": {},
   "outputs": [
    {
     "data": {
      "text/plain": [
       "0    23\n",
       "1    24\n",
       "2    22\n",
       "dtype: int64"
      ]
     },
     "execution_count": 6,
     "metadata": {},
     "output_type": "execute_result"
    }
   ],
   "source": [
    "pd.Series(benimYaslarim)"
   ]
  },
  {
   "cell_type": "code",
   "execution_count": 7,
   "id": "62c99a8d",
   "metadata": {},
   "outputs": [
    {
     "data": {
      "text/plain": [
       "emirhan    23\n",
       "Ayşe       24\n",
       "Zeynep     22\n",
       "dtype: int64"
      ]
     },
     "execution_count": 7,
     "metadata": {},
     "output_type": "execute_result"
    }
   ],
   "source": [
    "pd.Series(benimYaslarim,benimIsimlerim)"
   ]
  },
  {
   "cell_type": "code",
   "execution_count": 8,
   "id": "aea9b2c9",
   "metadata": {},
   "outputs": [
    {
     "data": {
      "text/plain": [
       "emirhan    23\n",
       "Ayşe       24\n",
       "Zeynep     22\n",
       "dtype: int64"
      ]
     },
     "execution_count": 8,
     "metadata": {},
     "output_type": "execute_result"
    }
   ],
   "source": [
    "pd.Series(data=benimYaslarim,index=benimIsimlerim)"
   ]
  },
  {
   "cell_type": "code",
   "execution_count": 9,
   "id": "5d728e93",
   "metadata": {},
   "outputs": [],
   "source": [
    "numpyDizisi = np.array([50,60,70])"
   ]
  },
  {
   "cell_type": "code",
   "execution_count": 10,
   "id": "3c1b92c3",
   "metadata": {},
   "outputs": [
    {
     "data": {
      "text/plain": [
       "array([50, 60, 70])"
      ]
     },
     "execution_count": 10,
     "metadata": {},
     "output_type": "execute_result"
    }
   ],
   "source": [
    "numpyDizisi"
   ]
  },
  {
   "cell_type": "code",
   "execution_count": 11,
   "id": "0ee86235",
   "metadata": {},
   "outputs": [
    {
     "data": {
      "text/plain": [
       "0    50\n",
       "1    60\n",
       "2    70\n",
       "dtype: int32"
      ]
     },
     "execution_count": 11,
     "metadata": {},
     "output_type": "execute_result"
    }
   ],
   "source": [
    "pd.Series(numpyDizisi)"
   ]
  },
  {
   "cell_type": "code",
   "execution_count": 12,
   "id": "319f47d9",
   "metadata": {},
   "outputs": [
    {
     "data": {
      "text/plain": [
       "emirhan    50\n",
       "Ayşe       60\n",
       "Zeynep     70\n",
       "dtype: int32"
      ]
     },
     "execution_count": 12,
     "metadata": {},
     "output_type": "execute_result"
    }
   ],
   "source": [
    "pd.Series(numpyDizisi,benimIsimlerim)"
   ]
  },
  {
   "cell_type": "code",
   "execution_count": 13,
   "id": "5fd04555",
   "metadata": {},
   "outputs": [
    {
     "data": {
      "text/plain": [
       "3    Emirhan\n",
       "1       Ayşe\n",
       "2     Zeynep\n",
       "dtype: object"
      ]
     },
     "execution_count": 13,
     "metadata": {},
     "output_type": "execute_result"
    }
   ],
   "source": [
    "pd.Series([\"Emirhan\" , \"Ayşe\" , \"Zeynep\"],[3,1,2])"
   ]
  },
  {
   "cell_type": "code",
   "execution_count": 14,
   "id": "21c08f91",
   "metadata": {},
   "outputs": [],
   "source": [
    "sonuc1 = pd.Series( [10,10,5],[\"Emirhan\",\"Ayşe\" ,\"Zeynep\"])"
   ]
  },
  {
   "cell_type": "code",
   "execution_count": 15,
   "id": "898f2973",
   "metadata": {},
   "outputs": [
    {
     "data": {
      "text/plain": [
       "Emirhan    10\n",
       "Ayşe       10\n",
       "Zeynep      5\n",
       "dtype: int64"
      ]
     },
     "execution_count": 15,
     "metadata": {},
     "output_type": "execute_result"
    }
   ],
   "source": [
    "sonuc1"
   ]
  },
  {
   "cell_type": "code",
   "execution_count": 16,
   "id": "e0ed514b",
   "metadata": {},
   "outputs": [],
   "source": [
    "sonuc2 = pd.Series([20,15,5],[\"Emirhan\",\"Ayşe\",\"Zeynep\"])"
   ]
  },
  {
   "cell_type": "code",
   "execution_count": 17,
   "id": "99ecde3a",
   "metadata": {},
   "outputs": [
    {
     "data": {
      "text/plain": [
       "Emirhan    20\n",
       "Ayşe       15\n",
       "Zeynep      5\n",
       "dtype: int64"
      ]
     },
     "execution_count": 17,
     "metadata": {},
     "output_type": "execute_result"
    }
   ],
   "source": [
    "sonuc2"
   ]
  },
  {
   "cell_type": "code",
   "execution_count": 19,
   "id": "20b40b2e",
   "metadata": {},
   "outputs": [],
   "source": [
    "sonSonuc = sonuc1 + sonuc2"
   ]
  },
  {
   "cell_type": "code",
   "execution_count": 20,
   "id": "e8a60fae",
   "metadata": {},
   "outputs": [
    {
     "data": {
      "text/plain": [
       "Emirhan    30\n",
       "Ayşe       25\n",
       "Zeynep     10\n",
       "dtype: int64"
      ]
     },
     "execution_count": 20,
     "metadata": {},
     "output_type": "execute_result"
    }
   ],
   "source": [
    "sonSonuc"
   ]
  },
  {
   "cell_type": "code",
   "execution_count": 21,
   "id": "fcbbaf19",
   "metadata": {},
   "outputs": [],
   "source": [
    "seri1 = pd.Series([20,30,40,50] , [\"a\",\"b\",\"c\",\"d\"])"
   ]
  },
  {
   "cell_type": "code",
   "execution_count": 22,
   "id": "d3e77fc7",
   "metadata": {},
   "outputs": [],
   "source": [
    "seri2 = pd.Series([10,15,5,3] ,[\"a\",\"c\",\"f\",\"g\"])"
   ]
  },
  {
   "cell_type": "code",
   "execution_count": 23,
   "id": "211a691a",
   "metadata": {},
   "outputs": [
    {
     "data": {
      "text/plain": [
       "a    20\n",
       "b    30\n",
       "c    40\n",
       "d    50\n",
       "dtype: int64"
      ]
     },
     "execution_count": 23,
     "metadata": {},
     "output_type": "execute_result"
    }
   ],
   "source": [
    "seri1"
   ]
  },
  {
   "cell_type": "code",
   "execution_count": 24,
   "id": "42bfaf10",
   "metadata": {},
   "outputs": [
    {
     "data": {
      "text/plain": [
       "a    10\n",
       "c    15\n",
       "f     5\n",
       "g     3\n",
       "dtype: int64"
      ]
     },
     "execution_count": 24,
     "metadata": {},
     "output_type": "execute_result"
    }
   ],
   "source": [
    "seri2"
   ]
  },
  {
   "cell_type": "code",
   "execution_count": 25,
   "id": "514282c1",
   "metadata": {},
   "outputs": [],
   "source": [
    "sonucSeri = seri1 + seri2"
   ]
  },
  {
   "cell_type": "code",
   "execution_count": 26,
   "id": "338b6620",
   "metadata": {},
   "outputs": [
    {
     "data": {
      "text/plain": [
       "a    30.0\n",
       "b     NaN\n",
       "c    55.0\n",
       "d     NaN\n",
       "f     NaN\n",
       "g     NaN\n",
       "dtype: float64"
      ]
     },
     "execution_count": 26,
     "metadata": {},
     "output_type": "execute_result"
    }
   ],
   "source": [
    "sonucSeri"
   ]
  },
  {
   "cell_type": "code",
   "execution_count": null,
   "id": "e3c246fa",
   "metadata": {},
   "outputs": [],
   "source": []
  }
 ],
 "metadata": {
  "kernelspec": {
   "display_name": "Python 3 (ipykernel)",
   "language": "python",
   "name": "python3"
  },
  "language_info": {
   "codemirror_mode": {
    "name": "ipython",
    "version": 3
   },
   "file_extension": ".py",
   "mimetype": "text/x-python",
   "name": "python",
   "nbconvert_exporter": "python",
   "pygments_lexer": "ipython3",
   "version": "3.11.5"
  }
 },
 "nbformat": 4,
 "nbformat_minor": 5
}
