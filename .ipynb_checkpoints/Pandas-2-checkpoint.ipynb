{
 "cells": [
  {
   "cell_type": "markdown",
   "id": "9ec3351f",
   "metadata": {},
   "source": [
    "# Data Frame"
   ]
  },
  {
   "cell_type": "code",
   "execution_count": 25,
   "id": "3b05a967",
   "metadata": {},
   "outputs": [],
   "source": [
    "import numpy as np\n",
    "import pandas as pd"
   ]
  },
  {
   "cell_type": "code",
   "execution_count": 26,
   "id": "85b3d38b",
   "metadata": {},
   "outputs": [],
   "source": [
    "data = np.random.randn(4,3)"
   ]
  },
  {
   "cell_type": "code",
   "execution_count": 27,
   "id": "cc80a91d",
   "metadata": {},
   "outputs": [
    {
     "data": {
      "text/plain": [
       "array([[-0.54740473, -1.68540908, -1.27995991],\n",
       "       [ 1.0837703 ,  2.08337395, -0.98591493],\n",
       "       [ 0.51252782,  0.37433492,  0.75628741],\n",
       "       [-0.36738474, -1.26636018,  1.66824697]])"
      ]
     },
     "execution_count": 27,
     "metadata": {},
     "output_type": "execute_result"
    }
   ],
   "source": [
    "data"
   ]
  },
  {
   "cell_type": "code",
   "execution_count": 28,
   "id": "aa1d942b",
   "metadata": {},
   "outputs": [],
   "source": [
    "dataFrame = pd.DataFrame(data)"
   ]
  },
  {
   "cell_type": "code",
   "execution_count": 29,
   "id": "39e327b1",
   "metadata": {},
   "outputs": [
    {
     "data": {
      "text/html": [
       "<div>\n",
       "<style scoped>\n",
       "    .dataframe tbody tr th:only-of-type {\n",
       "        vertical-align: middle;\n",
       "    }\n",
       "\n",
       "    .dataframe tbody tr th {\n",
       "        vertical-align: top;\n",
       "    }\n",
       "\n",
       "    .dataframe thead th {\n",
       "        text-align: right;\n",
       "    }\n",
       "</style>\n",
       "<table border=\"1\" class=\"dataframe\">\n",
       "  <thead>\n",
       "    <tr style=\"text-align: right;\">\n",
       "      <th></th>\n",
       "      <th>0</th>\n",
       "      <th>1</th>\n",
       "      <th>2</th>\n",
       "    </tr>\n",
       "  </thead>\n",
       "  <tbody>\n",
       "    <tr>\n",
       "      <th>0</th>\n",
       "      <td>-0.547405</td>\n",
       "      <td>-1.685409</td>\n",
       "      <td>-1.279960</td>\n",
       "    </tr>\n",
       "    <tr>\n",
       "      <th>1</th>\n",
       "      <td>1.083770</td>\n",
       "      <td>2.083374</td>\n",
       "      <td>-0.985915</td>\n",
       "    </tr>\n",
       "    <tr>\n",
       "      <th>2</th>\n",
       "      <td>0.512528</td>\n",
       "      <td>0.374335</td>\n",
       "      <td>0.756287</td>\n",
       "    </tr>\n",
       "    <tr>\n",
       "      <th>3</th>\n",
       "      <td>-0.367385</td>\n",
       "      <td>-1.266360</td>\n",
       "      <td>1.668247</td>\n",
       "    </tr>\n",
       "  </tbody>\n",
       "</table>\n",
       "</div>"
      ],
      "text/plain": [
       "          0         1         2\n",
       "0 -0.547405 -1.685409 -1.279960\n",
       "1  1.083770  2.083374 -0.985915\n",
       "2  0.512528  0.374335  0.756287\n",
       "3 -0.367385 -1.266360  1.668247"
      ]
     },
     "execution_count": 29,
     "metadata": {},
     "output_type": "execute_result"
    }
   ],
   "source": [
    "dataFrame"
   ]
  },
  {
   "cell_type": "code",
   "execution_count": 30,
   "id": "b52af3b5",
   "metadata": {},
   "outputs": [
    {
     "data": {
      "text/plain": [
       "pandas.core.series.Series"
      ]
     },
     "execution_count": 30,
     "metadata": {},
     "output_type": "execute_result"
    }
   ],
   "source": [
    "type(dataFrame[0])"
   ]
  },
  {
   "cell_type": "code",
   "execution_count": 31,
   "id": "46fcbe43",
   "metadata": {},
   "outputs": [],
   "source": [
    "yeniDataFrame = pd.DataFrame(data,index=[\"Emir\" ,\"Ayşe\" , \"Zeynep\" ,\"Kürşad\"] , columns=[\"Maaş\", \"Yaş\" , \"Çalışma Saati\"])"
   ]
  },
  {
   "cell_type": "code",
   "execution_count": 32,
   "id": "ff50c6a2",
   "metadata": {},
   "outputs": [
    {
     "data": {
      "text/html": [
       "<div>\n",
       "<style scoped>\n",
       "    .dataframe tbody tr th:only-of-type {\n",
       "        vertical-align: middle;\n",
       "    }\n",
       "\n",
       "    .dataframe tbody tr th {\n",
       "        vertical-align: top;\n",
       "    }\n",
       "\n",
       "    .dataframe thead th {\n",
       "        text-align: right;\n",
       "    }\n",
       "</style>\n",
       "<table border=\"1\" class=\"dataframe\">\n",
       "  <thead>\n",
       "    <tr style=\"text-align: right;\">\n",
       "      <th></th>\n",
       "      <th>Maaş</th>\n",
       "      <th>Yaş</th>\n",
       "      <th>Çalışma Saati</th>\n",
       "    </tr>\n",
       "  </thead>\n",
       "  <tbody>\n",
       "    <tr>\n",
       "      <th>Emir</th>\n",
       "      <td>-0.547405</td>\n",
       "      <td>-1.685409</td>\n",
       "      <td>-1.279960</td>\n",
       "    </tr>\n",
       "    <tr>\n",
       "      <th>Ayşe</th>\n",
       "      <td>1.083770</td>\n",
       "      <td>2.083374</td>\n",
       "      <td>-0.985915</td>\n",
       "    </tr>\n",
       "    <tr>\n",
       "      <th>Zeynep</th>\n",
       "      <td>0.512528</td>\n",
       "      <td>0.374335</td>\n",
       "      <td>0.756287</td>\n",
       "    </tr>\n",
       "    <tr>\n",
       "      <th>Kürşad</th>\n",
       "      <td>-0.367385</td>\n",
       "      <td>-1.266360</td>\n",
       "      <td>1.668247</td>\n",
       "    </tr>\n",
       "  </tbody>\n",
       "</table>\n",
       "</div>"
      ],
      "text/plain": [
       "            Maaş       Yaş  Çalışma Saati\n",
       "Emir   -0.547405 -1.685409      -1.279960\n",
       "Ayşe    1.083770  2.083374      -0.985915\n",
       "Zeynep  0.512528  0.374335       0.756287\n",
       "Kürşad -0.367385 -1.266360       1.668247"
      ]
     },
     "execution_count": 32,
     "metadata": {},
     "output_type": "execute_result"
    }
   ],
   "source": [
    "yeniDataFrame"
   ]
  },
  {
   "cell_type": "code",
   "execution_count": 33,
   "id": "54f30b0d",
   "metadata": {},
   "outputs": [
    {
     "data": {
      "text/plain": [
       "Emir     -0.547405\n",
       "Ayşe      1.083770\n",
       "Zeynep    0.512528\n",
       "Kürşad   -0.367385\n",
       "Name: Maaş, dtype: float64"
      ]
     },
     "execution_count": 33,
     "metadata": {},
     "output_type": "execute_result"
    }
   ],
   "source": [
    "yeniDataFrame[\"Maaş\"]"
   ]
  },
  {
   "cell_type": "code",
   "execution_count": 34,
   "id": "5ebab51a",
   "metadata": {},
   "outputs": [
    {
     "data": {
      "text/html": [
       "<div>\n",
       "<style scoped>\n",
       "    .dataframe tbody tr th:only-of-type {\n",
       "        vertical-align: middle;\n",
       "    }\n",
       "\n",
       "    .dataframe tbody tr th {\n",
       "        vertical-align: top;\n",
       "    }\n",
       "\n",
       "    .dataframe thead th {\n",
       "        text-align: right;\n",
       "    }\n",
       "</style>\n",
       "<table border=\"1\" class=\"dataframe\">\n",
       "  <thead>\n",
       "    <tr style=\"text-align: right;\">\n",
       "      <th></th>\n",
       "      <th>Maaş</th>\n",
       "      <th>Yaş</th>\n",
       "    </tr>\n",
       "  </thead>\n",
       "  <tbody>\n",
       "    <tr>\n",
       "      <th>Emir</th>\n",
       "      <td>-0.547405</td>\n",
       "      <td>-1.685409</td>\n",
       "    </tr>\n",
       "    <tr>\n",
       "      <th>Ayşe</th>\n",
       "      <td>1.083770</td>\n",
       "      <td>2.083374</td>\n",
       "    </tr>\n",
       "    <tr>\n",
       "      <th>Zeynep</th>\n",
       "      <td>0.512528</td>\n",
       "      <td>0.374335</td>\n",
       "    </tr>\n",
       "    <tr>\n",
       "      <th>Kürşad</th>\n",
       "      <td>-0.367385</td>\n",
       "      <td>-1.266360</td>\n",
       "    </tr>\n",
       "  </tbody>\n",
       "</table>\n",
       "</div>"
      ],
      "text/plain": [
       "            Maaş       Yaş\n",
       "Emir   -0.547405 -1.685409\n",
       "Ayşe    1.083770  2.083374\n",
       "Zeynep  0.512528  0.374335\n",
       "Kürşad -0.367385 -1.266360"
      ]
     },
     "execution_count": 34,
     "metadata": {},
     "output_type": "execute_result"
    }
   ],
   "source": [
    "yeniDataFrame[[\"Maaş\" , \"Yaş\"]]"
   ]
  },
  {
   "cell_type": "code",
   "execution_count": 35,
   "id": "623e38df",
   "metadata": {},
   "outputs": [
    {
     "data": {
      "text/plain": [
       "Maaş            -0.547405\n",
       "Yaş             -1.685409\n",
       "Çalışma Saati   -1.279960\n",
       "Name: Emir, dtype: float64"
      ]
     },
     "execution_count": 35,
     "metadata": {},
     "output_type": "execute_result"
    }
   ],
   "source": [
    "yeniDataFrame.loc[\"Emir\"]"
   ]
  },
  {
   "cell_type": "code",
   "execution_count": 36,
   "id": "ffdf326f",
   "metadata": {},
   "outputs": [
    {
     "data": {
      "text/plain": [
       "Maaş             1.083770\n",
       "Yaş              2.083374\n",
       "Çalışma Saati   -0.985915\n",
       "Name: Ayşe, dtype: float64"
      ]
     },
     "execution_count": 36,
     "metadata": {},
     "output_type": "execute_result"
    }
   ],
   "source": [
    "yeniDataFrame.iloc[1]"
   ]
  },
  {
   "cell_type": "code",
   "execution_count": 37,
   "id": "7c422d89",
   "metadata": {},
   "outputs": [],
   "source": [
    "yeniDataFrame[\"Emeklilik Yaşı\"] = yeniDataFrame[\"Yaş\"] + yeniDataFrame[\"Yaş\"]"
   ]
  },
  {
   "cell_type": "code",
   "execution_count": 38,
   "id": "9ec8653f",
   "metadata": {},
   "outputs": [
    {
     "data": {
      "text/html": [
       "<div>\n",
       "<style scoped>\n",
       "    .dataframe tbody tr th:only-of-type {\n",
       "        vertical-align: middle;\n",
       "    }\n",
       "\n",
       "    .dataframe tbody tr th {\n",
       "        vertical-align: top;\n",
       "    }\n",
       "\n",
       "    .dataframe thead th {\n",
       "        text-align: right;\n",
       "    }\n",
       "</style>\n",
       "<table border=\"1\" class=\"dataframe\">\n",
       "  <thead>\n",
       "    <tr style=\"text-align: right;\">\n",
       "      <th></th>\n",
       "      <th>Maaş</th>\n",
       "      <th>Yaş</th>\n",
       "      <th>Çalışma Saati</th>\n",
       "      <th>Emeklilik Yaşı</th>\n",
       "    </tr>\n",
       "  </thead>\n",
       "  <tbody>\n",
       "    <tr>\n",
       "      <th>Emir</th>\n",
       "      <td>-0.547405</td>\n",
       "      <td>-1.685409</td>\n",
       "      <td>-1.279960</td>\n",
       "      <td>-3.370818</td>\n",
       "    </tr>\n",
       "    <tr>\n",
       "      <th>Ayşe</th>\n",
       "      <td>1.083770</td>\n",
       "      <td>2.083374</td>\n",
       "      <td>-0.985915</td>\n",
       "      <td>4.166748</td>\n",
       "    </tr>\n",
       "    <tr>\n",
       "      <th>Zeynep</th>\n",
       "      <td>0.512528</td>\n",
       "      <td>0.374335</td>\n",
       "      <td>0.756287</td>\n",
       "      <td>0.748670</td>\n",
       "    </tr>\n",
       "    <tr>\n",
       "      <th>Kürşad</th>\n",
       "      <td>-0.367385</td>\n",
       "      <td>-1.266360</td>\n",
       "      <td>1.668247</td>\n",
       "      <td>-2.532720</td>\n",
       "    </tr>\n",
       "  </tbody>\n",
       "</table>\n",
       "</div>"
      ],
      "text/plain": [
       "            Maaş       Yaş  Çalışma Saati  Emeklilik Yaşı\n",
       "Emir   -0.547405 -1.685409      -1.279960       -3.370818\n",
       "Ayşe    1.083770  2.083374      -0.985915        4.166748\n",
       "Zeynep  0.512528  0.374335       0.756287        0.748670\n",
       "Kürşad -0.367385 -1.266360       1.668247       -2.532720"
      ]
     },
     "execution_count": 38,
     "metadata": {},
     "output_type": "execute_result"
    }
   ],
   "source": [
    "yeniDataFrame"
   ]
  },
  {
   "cell_type": "code",
   "execution_count": 39,
   "id": "f72fb60d",
   "metadata": {},
   "outputs": [
    {
     "data": {
      "text/html": [
       "<div>\n",
       "<style scoped>\n",
       "    .dataframe tbody tr th:only-of-type {\n",
       "        vertical-align: middle;\n",
       "    }\n",
       "\n",
       "    .dataframe tbody tr th {\n",
       "        vertical-align: top;\n",
       "    }\n",
       "\n",
       "    .dataframe thead th {\n",
       "        text-align: right;\n",
       "    }\n",
       "</style>\n",
       "<table border=\"1\" class=\"dataframe\">\n",
       "  <thead>\n",
       "    <tr style=\"text-align: right;\">\n",
       "      <th></th>\n",
       "      <th>Maaş</th>\n",
       "      <th>Yaş</th>\n",
       "      <th>Çalışma Saati</th>\n",
       "    </tr>\n",
       "  </thead>\n",
       "  <tbody>\n",
       "    <tr>\n",
       "      <th>Emir</th>\n",
       "      <td>-0.547405</td>\n",
       "      <td>-1.685409</td>\n",
       "      <td>-1.279960</td>\n",
       "    </tr>\n",
       "    <tr>\n",
       "      <th>Ayşe</th>\n",
       "      <td>1.083770</td>\n",
       "      <td>2.083374</td>\n",
       "      <td>-0.985915</td>\n",
       "    </tr>\n",
       "    <tr>\n",
       "      <th>Zeynep</th>\n",
       "      <td>0.512528</td>\n",
       "      <td>0.374335</td>\n",
       "      <td>0.756287</td>\n",
       "    </tr>\n",
       "    <tr>\n",
       "      <th>Kürşad</th>\n",
       "      <td>-0.367385</td>\n",
       "      <td>-1.266360</td>\n",
       "      <td>1.668247</td>\n",
       "    </tr>\n",
       "  </tbody>\n",
       "</table>\n",
       "</div>"
      ],
      "text/plain": [
       "            Maaş       Yaş  Çalışma Saati\n",
       "Emir   -0.547405 -1.685409      -1.279960\n",
       "Ayşe    1.083770  2.083374      -0.985915\n",
       "Zeynep  0.512528  0.374335       0.756287\n",
       "Kürşad -0.367385 -1.266360       1.668247"
      ]
     },
     "execution_count": 39,
     "metadata": {},
     "output_type": "execute_result"
    }
   ],
   "source": [
    "yeniDataFrame.drop(\"Emeklilik Yaşı\",axis=1)"
   ]
  },
  {
   "cell_type": "code",
   "execution_count": 40,
   "id": "487dc9ba",
   "metadata": {},
   "outputs": [
    {
     "data": {
      "text/html": [
       "<div>\n",
       "<style scoped>\n",
       "    .dataframe tbody tr th:only-of-type {\n",
       "        vertical-align: middle;\n",
       "    }\n",
       "\n",
       "    .dataframe tbody tr th {\n",
       "        vertical-align: top;\n",
       "    }\n",
       "\n",
       "    .dataframe thead th {\n",
       "        text-align: right;\n",
       "    }\n",
       "</style>\n",
       "<table border=\"1\" class=\"dataframe\">\n",
       "  <thead>\n",
       "    <tr style=\"text-align: right;\">\n",
       "      <th></th>\n",
       "      <th>Maaş</th>\n",
       "      <th>Yaş</th>\n",
       "      <th>Çalışma Saati</th>\n",
       "      <th>Emeklilik Yaşı</th>\n",
       "    </tr>\n",
       "  </thead>\n",
       "  <tbody>\n",
       "    <tr>\n",
       "      <th>Emir</th>\n",
       "      <td>-0.547405</td>\n",
       "      <td>-1.685409</td>\n",
       "      <td>-1.279960</td>\n",
       "      <td>-3.370818</td>\n",
       "    </tr>\n",
       "    <tr>\n",
       "      <th>Ayşe</th>\n",
       "      <td>1.083770</td>\n",
       "      <td>2.083374</td>\n",
       "      <td>-0.985915</td>\n",
       "      <td>4.166748</td>\n",
       "    </tr>\n",
       "    <tr>\n",
       "      <th>Zeynep</th>\n",
       "      <td>0.512528</td>\n",
       "      <td>0.374335</td>\n",
       "      <td>0.756287</td>\n",
       "      <td>0.748670</td>\n",
       "    </tr>\n",
       "  </tbody>\n",
       "</table>\n",
       "</div>"
      ],
      "text/plain": [
       "            Maaş       Yaş  Çalışma Saati  Emeklilik Yaşı\n",
       "Emir   -0.547405 -1.685409      -1.279960       -3.370818\n",
       "Ayşe    1.083770  2.083374      -0.985915        4.166748\n",
       "Zeynep  0.512528  0.374335       0.756287        0.748670"
      ]
     },
     "execution_count": 40,
     "metadata": {},
     "output_type": "execute_result"
    }
   ],
   "source": [
    "yeniDataFrame.drop(\"Kürşad\",axis=0)"
   ]
  },
  {
   "cell_type": "code",
   "execution_count": 41,
   "id": "c5289a0c",
   "metadata": {},
   "outputs": [
    {
     "data": {
      "text/html": [
       "<div>\n",
       "<style scoped>\n",
       "    .dataframe tbody tr th:only-of-type {\n",
       "        vertical-align: middle;\n",
       "    }\n",
       "\n",
       "    .dataframe tbody tr th {\n",
       "        vertical-align: top;\n",
       "    }\n",
       "\n",
       "    .dataframe thead th {\n",
       "        text-align: right;\n",
       "    }\n",
       "</style>\n",
       "<table border=\"1\" class=\"dataframe\">\n",
       "  <thead>\n",
       "    <tr style=\"text-align: right;\">\n",
       "      <th></th>\n",
       "      <th>Maaş</th>\n",
       "      <th>Yaş</th>\n",
       "      <th>Çalışma Saati</th>\n",
       "      <th>Emeklilik Yaşı</th>\n",
       "    </tr>\n",
       "  </thead>\n",
       "  <tbody>\n",
       "    <tr>\n",
       "      <th>Emir</th>\n",
       "      <td>-0.547405</td>\n",
       "      <td>-1.685409</td>\n",
       "      <td>-1.279960</td>\n",
       "      <td>-3.370818</td>\n",
       "    </tr>\n",
       "    <tr>\n",
       "      <th>Ayşe</th>\n",
       "      <td>1.083770</td>\n",
       "      <td>2.083374</td>\n",
       "      <td>-0.985915</td>\n",
       "      <td>4.166748</td>\n",
       "    </tr>\n",
       "    <tr>\n",
       "      <th>Zeynep</th>\n",
       "      <td>0.512528</td>\n",
       "      <td>0.374335</td>\n",
       "      <td>0.756287</td>\n",
       "      <td>0.748670</td>\n",
       "    </tr>\n",
       "    <tr>\n",
       "      <th>Kürşad</th>\n",
       "      <td>-0.367385</td>\n",
       "      <td>-1.266360</td>\n",
       "      <td>1.668247</td>\n",
       "      <td>-2.532720</td>\n",
       "    </tr>\n",
       "  </tbody>\n",
       "</table>\n",
       "</div>"
      ],
      "text/plain": [
       "            Maaş       Yaş  Çalışma Saati  Emeklilik Yaşı\n",
       "Emir   -0.547405 -1.685409      -1.279960       -3.370818\n",
       "Ayşe    1.083770  2.083374      -0.985915        4.166748\n",
       "Zeynep  0.512528  0.374335       0.756287        0.748670\n",
       "Kürşad -0.367385 -1.266360       1.668247       -2.532720"
      ]
     },
     "execution_count": 41,
     "metadata": {},
     "output_type": "execute_result"
    }
   ],
   "source": [
    "yeniDataFrame"
   ]
  },
  {
   "cell_type": "code",
   "execution_count": 42,
   "id": "0a0c1121",
   "metadata": {},
   "outputs": [],
   "source": [
    "yeniDataFrame.drop(\"Emeklilik Yaşı\" , axis=1 , inplace=True) ##Yapılan değişikliğin geçerli olması için inplace = True olmalı"
   ]
  },
  {
   "cell_type": "code",
   "execution_count": 43,
   "id": "ab30a408",
   "metadata": {},
   "outputs": [
    {
     "data": {
      "text/html": [
       "<div>\n",
       "<style scoped>\n",
       "    .dataframe tbody tr th:only-of-type {\n",
       "        vertical-align: middle;\n",
       "    }\n",
       "\n",
       "    .dataframe tbody tr th {\n",
       "        vertical-align: top;\n",
       "    }\n",
       "\n",
       "    .dataframe thead th {\n",
       "        text-align: right;\n",
       "    }\n",
       "</style>\n",
       "<table border=\"1\" class=\"dataframe\">\n",
       "  <thead>\n",
       "    <tr style=\"text-align: right;\">\n",
       "      <th></th>\n",
       "      <th>Maaş</th>\n",
       "      <th>Yaş</th>\n",
       "      <th>Çalışma Saati</th>\n",
       "    </tr>\n",
       "  </thead>\n",
       "  <tbody>\n",
       "    <tr>\n",
       "      <th>Emir</th>\n",
       "      <td>-0.547405</td>\n",
       "      <td>-1.685409</td>\n",
       "      <td>-1.279960</td>\n",
       "    </tr>\n",
       "    <tr>\n",
       "      <th>Ayşe</th>\n",
       "      <td>1.083770</td>\n",
       "      <td>2.083374</td>\n",
       "      <td>-0.985915</td>\n",
       "    </tr>\n",
       "    <tr>\n",
       "      <th>Zeynep</th>\n",
       "      <td>0.512528</td>\n",
       "      <td>0.374335</td>\n",
       "      <td>0.756287</td>\n",
       "    </tr>\n",
       "    <tr>\n",
       "      <th>Kürşad</th>\n",
       "      <td>-0.367385</td>\n",
       "      <td>-1.266360</td>\n",
       "      <td>1.668247</td>\n",
       "    </tr>\n",
       "  </tbody>\n",
       "</table>\n",
       "</div>"
      ],
      "text/plain": [
       "            Maaş       Yaş  Çalışma Saati\n",
       "Emir   -0.547405 -1.685409      -1.279960\n",
       "Ayşe    1.083770  2.083374      -0.985915\n",
       "Zeynep  0.512528  0.374335       0.756287\n",
       "Kürşad -0.367385 -1.266360       1.668247"
      ]
     },
     "execution_count": 43,
     "metadata": {},
     "output_type": "execute_result"
    }
   ],
   "source": [
    "yeniDataFrame"
   ]
  },
  {
   "cell_type": "code",
   "execution_count": 45,
   "id": "3d304d71",
   "metadata": {},
   "outputs": [
    {
     "data": {
      "text/plain": [
       "Maaş            -0.547405\n",
       "Yaş             -1.685409\n",
       "Çalışma Saati   -1.279960\n",
       "Name: Emir, dtype: float64"
      ]
     },
     "execution_count": 45,
     "metadata": {},
     "output_type": "execute_result"
    }
   ],
   "source": [
    "yeniDataFrame.loc[\"Emir\"]"
   ]
  },
  {
   "cell_type": "code",
   "execution_count": 47,
   "id": "1a144364",
   "metadata": {},
   "outputs": [
    {
     "data": {
      "text/plain": [
       "-1.6854090824815322"
      ]
     },
     "execution_count": 47,
     "metadata": {},
     "output_type": "execute_result"
    }
   ],
   "source": [
    "yeniDataFrame.loc[\"Emir\",\"Yaş\"]"
   ]
  },
  {
   "cell_type": "code",
   "execution_count": 49,
   "id": "2ac13539",
   "metadata": {},
   "outputs": [],
   "source": [
    "booleanFrame = yeniDataFrame < 0"
   ]
  },
  {
   "cell_type": "code",
   "execution_count": 50,
   "id": "78ff2e64",
   "metadata": {},
   "outputs": [
    {
     "data": {
      "text/html": [
       "<div>\n",
       "<style scoped>\n",
       "    .dataframe tbody tr th:only-of-type {\n",
       "        vertical-align: middle;\n",
       "    }\n",
       "\n",
       "    .dataframe tbody tr th {\n",
       "        vertical-align: top;\n",
       "    }\n",
       "\n",
       "    .dataframe thead th {\n",
       "        text-align: right;\n",
       "    }\n",
       "</style>\n",
       "<table border=\"1\" class=\"dataframe\">\n",
       "  <thead>\n",
       "    <tr style=\"text-align: right;\">\n",
       "      <th></th>\n",
       "      <th>Maaş</th>\n",
       "      <th>Yaş</th>\n",
       "      <th>Çalışma Saati</th>\n",
       "    </tr>\n",
       "  </thead>\n",
       "  <tbody>\n",
       "    <tr>\n",
       "      <th>Emir</th>\n",
       "      <td>-0.547405</td>\n",
       "      <td>-1.685409</td>\n",
       "      <td>-1.279960</td>\n",
       "    </tr>\n",
       "    <tr>\n",
       "      <th>Ayşe</th>\n",
       "      <td>NaN</td>\n",
       "      <td>NaN</td>\n",
       "      <td>-0.985915</td>\n",
       "    </tr>\n",
       "    <tr>\n",
       "      <th>Zeynep</th>\n",
       "      <td>NaN</td>\n",
       "      <td>NaN</td>\n",
       "      <td>NaN</td>\n",
       "    </tr>\n",
       "    <tr>\n",
       "      <th>Kürşad</th>\n",
       "      <td>-0.367385</td>\n",
       "      <td>-1.266360</td>\n",
       "      <td>NaN</td>\n",
       "    </tr>\n",
       "  </tbody>\n",
       "</table>\n",
       "</div>"
      ],
      "text/plain": [
       "            Maaş       Yaş  Çalışma Saati\n",
       "Emir   -0.547405 -1.685409      -1.279960\n",
       "Ayşe         NaN       NaN      -0.985915\n",
       "Zeynep       NaN       NaN            NaN\n",
       "Kürşad -0.367385 -1.266360            NaN"
      ]
     },
     "execution_count": 50,
     "metadata": {},
     "output_type": "execute_result"
    }
   ],
   "source": [
    "yeniDataFrame[booleanFrame]"
   ]
  },
  {
   "cell_type": "code",
   "execution_count": 51,
   "id": "7e4997da",
   "metadata": {},
   "outputs": [
    {
     "data": {
      "text/html": [
       "<div>\n",
       "<style scoped>\n",
       "    .dataframe tbody tr th:only-of-type {\n",
       "        vertical-align: middle;\n",
       "    }\n",
       "\n",
       "    .dataframe tbody tr th {\n",
       "        vertical-align: top;\n",
       "    }\n",
       "\n",
       "    .dataframe thead th {\n",
       "        text-align: right;\n",
       "    }\n",
       "</style>\n",
       "<table border=\"1\" class=\"dataframe\">\n",
       "  <thead>\n",
       "    <tr style=\"text-align: right;\">\n",
       "      <th></th>\n",
       "      <th>Maaş</th>\n",
       "      <th>Yaş</th>\n",
       "      <th>Çalışma Saati</th>\n",
       "    </tr>\n",
       "  </thead>\n",
       "  <tbody>\n",
       "    <tr>\n",
       "      <th>Ayşe</th>\n",
       "      <td>1.083770</td>\n",
       "      <td>2.083374</td>\n",
       "      <td>-0.985915</td>\n",
       "    </tr>\n",
       "    <tr>\n",
       "      <th>Zeynep</th>\n",
       "      <td>0.512528</td>\n",
       "      <td>0.374335</td>\n",
       "      <td>0.756287</td>\n",
       "    </tr>\n",
       "  </tbody>\n",
       "</table>\n",
       "</div>"
      ],
      "text/plain": [
       "            Maaş       Yaş  Çalışma Saati\n",
       "Ayşe    1.083770  2.083374      -0.985915\n",
       "Zeynep  0.512528  0.374335       0.756287"
      ]
     },
     "execution_count": 51,
     "metadata": {},
     "output_type": "execute_result"
    }
   ],
   "source": [
    "yeniDataFrame[yeniDataFrame[\"Yaş\"]>0]"
   ]
  },
  {
   "cell_type": "code",
   "execution_count": 52,
   "id": "def86e23",
   "metadata": {},
   "outputs": [
    {
     "data": {
      "text/html": [
       "<div>\n",
       "<style scoped>\n",
       "    .dataframe tbody tr th:only-of-type {\n",
       "        vertical-align: middle;\n",
       "    }\n",
       "\n",
       "    .dataframe tbody tr th {\n",
       "        vertical-align: top;\n",
       "    }\n",
       "\n",
       "    .dataframe thead th {\n",
       "        text-align: right;\n",
       "    }\n",
       "</style>\n",
       "<table border=\"1\" class=\"dataframe\">\n",
       "  <thead>\n",
       "    <tr style=\"text-align: right;\">\n",
       "      <th></th>\n",
       "      <th>index</th>\n",
       "      <th>Maaş</th>\n",
       "      <th>Yaş</th>\n",
       "      <th>Çalışma Saati</th>\n",
       "    </tr>\n",
       "  </thead>\n",
       "  <tbody>\n",
       "    <tr>\n",
       "      <th>0</th>\n",
       "      <td>Emir</td>\n",
       "      <td>-0.547405</td>\n",
       "      <td>-1.685409</td>\n",
       "      <td>-1.279960</td>\n",
       "    </tr>\n",
       "    <tr>\n",
       "      <th>1</th>\n",
       "      <td>Ayşe</td>\n",
       "      <td>1.083770</td>\n",
       "      <td>2.083374</td>\n",
       "      <td>-0.985915</td>\n",
       "    </tr>\n",
       "    <tr>\n",
       "      <th>2</th>\n",
       "      <td>Zeynep</td>\n",
       "      <td>0.512528</td>\n",
       "      <td>0.374335</td>\n",
       "      <td>0.756287</td>\n",
       "    </tr>\n",
       "    <tr>\n",
       "      <th>3</th>\n",
       "      <td>Kürşad</td>\n",
       "      <td>-0.367385</td>\n",
       "      <td>-1.266360</td>\n",
       "      <td>1.668247</td>\n",
       "    </tr>\n",
       "  </tbody>\n",
       "</table>\n",
       "</div>"
      ],
      "text/plain": [
       "    index      Maaş       Yaş  Çalışma Saati\n",
       "0    Emir -0.547405 -1.685409      -1.279960\n",
       "1    Ayşe  1.083770  2.083374      -0.985915\n",
       "2  Zeynep  0.512528  0.374335       0.756287\n",
       "3  Kürşad -0.367385 -1.266360       1.668247"
      ]
     },
     "execution_count": 52,
     "metadata": {},
     "output_type": "execute_result"
    }
   ],
   "source": [
    "yeniDataFrame.reset_index()"
   ]
  },
  {
   "cell_type": "code",
   "execution_count": 53,
   "id": "68888b3b",
   "metadata": {},
   "outputs": [],
   "source": [
    "yeniIndexListesi = [\"A\",\"B\",\"C\",\"D\"]"
   ]
  },
  {
   "cell_type": "code",
   "execution_count": 54,
   "id": "4385e8b3",
   "metadata": {},
   "outputs": [],
   "source": [
    "yeniDataFrame[\"Yeni İndex\"] = yeniIndexListesi"
   ]
  },
  {
   "cell_type": "code",
   "execution_count": 55,
   "id": "c9b58d83",
   "metadata": {},
   "outputs": [
    {
     "data": {
      "text/html": [
       "<div>\n",
       "<style scoped>\n",
       "    .dataframe tbody tr th:only-of-type {\n",
       "        vertical-align: middle;\n",
       "    }\n",
       "\n",
       "    .dataframe tbody tr th {\n",
       "        vertical-align: top;\n",
       "    }\n",
       "\n",
       "    .dataframe thead th {\n",
       "        text-align: right;\n",
       "    }\n",
       "</style>\n",
       "<table border=\"1\" class=\"dataframe\">\n",
       "  <thead>\n",
       "    <tr style=\"text-align: right;\">\n",
       "      <th></th>\n",
       "      <th>Maaş</th>\n",
       "      <th>Yaş</th>\n",
       "      <th>Çalışma Saati</th>\n",
       "      <th>Yeni İndex</th>\n",
       "    </tr>\n",
       "  </thead>\n",
       "  <tbody>\n",
       "    <tr>\n",
       "      <th>Emir</th>\n",
       "      <td>-0.547405</td>\n",
       "      <td>-1.685409</td>\n",
       "      <td>-1.279960</td>\n",
       "      <td>A</td>\n",
       "    </tr>\n",
       "    <tr>\n",
       "      <th>Ayşe</th>\n",
       "      <td>1.083770</td>\n",
       "      <td>2.083374</td>\n",
       "      <td>-0.985915</td>\n",
       "      <td>B</td>\n",
       "    </tr>\n",
       "    <tr>\n",
       "      <th>Zeynep</th>\n",
       "      <td>0.512528</td>\n",
       "      <td>0.374335</td>\n",
       "      <td>0.756287</td>\n",
       "      <td>C</td>\n",
       "    </tr>\n",
       "    <tr>\n",
       "      <th>Kürşad</th>\n",
       "      <td>-0.367385</td>\n",
       "      <td>-1.266360</td>\n",
       "      <td>1.668247</td>\n",
       "      <td>D</td>\n",
       "    </tr>\n",
       "  </tbody>\n",
       "</table>\n",
       "</div>"
      ],
      "text/plain": [
       "            Maaş       Yaş  Çalışma Saati Yeni İndex\n",
       "Emir   -0.547405 -1.685409      -1.279960          A\n",
       "Ayşe    1.083770  2.083374      -0.985915          B\n",
       "Zeynep  0.512528  0.374335       0.756287          C\n",
       "Kürşad -0.367385 -1.266360       1.668247          D"
      ]
     },
     "execution_count": 55,
     "metadata": {},
     "output_type": "execute_result"
    }
   ],
   "source": [
    "yeniDataFrame"
   ]
  },
  {
   "cell_type": "code",
   "execution_count": 56,
   "id": "0e54a01a",
   "metadata": {},
   "outputs": [
    {
     "data": {
      "text/html": [
       "<div>\n",
       "<style scoped>\n",
       "    .dataframe tbody tr th:only-of-type {\n",
       "        vertical-align: middle;\n",
       "    }\n",
       "\n",
       "    .dataframe tbody tr th {\n",
       "        vertical-align: top;\n",
       "    }\n",
       "\n",
       "    .dataframe thead th {\n",
       "        text-align: right;\n",
       "    }\n",
       "</style>\n",
       "<table border=\"1\" class=\"dataframe\">\n",
       "  <thead>\n",
       "    <tr style=\"text-align: right;\">\n",
       "      <th></th>\n",
       "      <th>Maaş</th>\n",
       "      <th>Yaş</th>\n",
       "      <th>Çalışma Saati</th>\n",
       "    </tr>\n",
       "    <tr>\n",
       "      <th>Yeni İndex</th>\n",
       "      <th></th>\n",
       "      <th></th>\n",
       "      <th></th>\n",
       "    </tr>\n",
       "  </thead>\n",
       "  <tbody>\n",
       "    <tr>\n",
       "      <th>A</th>\n",
       "      <td>-0.547405</td>\n",
       "      <td>-1.685409</td>\n",
       "      <td>-1.279960</td>\n",
       "    </tr>\n",
       "    <tr>\n",
       "      <th>B</th>\n",
       "      <td>1.083770</td>\n",
       "      <td>2.083374</td>\n",
       "      <td>-0.985915</td>\n",
       "    </tr>\n",
       "    <tr>\n",
       "      <th>C</th>\n",
       "      <td>0.512528</td>\n",
       "      <td>0.374335</td>\n",
       "      <td>0.756287</td>\n",
       "    </tr>\n",
       "    <tr>\n",
       "      <th>D</th>\n",
       "      <td>-0.367385</td>\n",
       "      <td>-1.266360</td>\n",
       "      <td>1.668247</td>\n",
       "    </tr>\n",
       "  </tbody>\n",
       "</table>\n",
       "</div>"
      ],
      "text/plain": [
       "                Maaş       Yaş  Çalışma Saati\n",
       "Yeni İndex                                   \n",
       "A          -0.547405 -1.685409      -1.279960\n",
       "B           1.083770  2.083374      -0.985915\n",
       "C           0.512528  0.374335       0.756287\n",
       "D          -0.367385 -1.266360       1.668247"
      ]
     },
     "execution_count": 56,
     "metadata": {},
     "output_type": "execute_result"
    }
   ],
   "source": [
    "yeniDataFrame.set_index(\"Yeni İndex\")"
   ]
  },
  {
   "cell_type": "code",
   "execution_count": 57,
   "id": "8415a804",
   "metadata": {},
   "outputs": [
    {
     "data": {
      "text/html": [
       "<div>\n",
       "<style scoped>\n",
       "    .dataframe tbody tr th:only-of-type {\n",
       "        vertical-align: middle;\n",
       "    }\n",
       "\n",
       "    .dataframe tbody tr th {\n",
       "        vertical-align: top;\n",
       "    }\n",
       "\n",
       "    .dataframe thead th {\n",
       "        text-align: right;\n",
       "    }\n",
       "</style>\n",
       "<table border=\"1\" class=\"dataframe\">\n",
       "  <thead>\n",
       "    <tr style=\"text-align: right;\">\n",
       "      <th></th>\n",
       "      <th>Maaş</th>\n",
       "      <th>Yaş</th>\n",
       "      <th>Çalışma Saati</th>\n",
       "      <th>Yeni İndex</th>\n",
       "    </tr>\n",
       "  </thead>\n",
       "  <tbody>\n",
       "    <tr>\n",
       "      <th>Emir</th>\n",
       "      <td>-0.547405</td>\n",
       "      <td>-1.685409</td>\n",
       "      <td>-1.279960</td>\n",
       "      <td>A</td>\n",
       "    </tr>\n",
       "    <tr>\n",
       "      <th>Ayşe</th>\n",
       "      <td>1.083770</td>\n",
       "      <td>2.083374</td>\n",
       "      <td>-0.985915</td>\n",
       "      <td>B</td>\n",
       "    </tr>\n",
       "    <tr>\n",
       "      <th>Zeynep</th>\n",
       "      <td>0.512528</td>\n",
       "      <td>0.374335</td>\n",
       "      <td>0.756287</td>\n",
       "      <td>C</td>\n",
       "    </tr>\n",
       "    <tr>\n",
       "      <th>Kürşad</th>\n",
       "      <td>-0.367385</td>\n",
       "      <td>-1.266360</td>\n",
       "      <td>1.668247</td>\n",
       "      <td>D</td>\n",
       "    </tr>\n",
       "  </tbody>\n",
       "</table>\n",
       "</div>"
      ],
      "text/plain": [
       "            Maaş       Yaş  Çalışma Saati Yeni İndex\n",
       "Emir   -0.547405 -1.685409      -1.279960          A\n",
       "Ayşe    1.083770  2.083374      -0.985915          B\n",
       "Zeynep  0.512528  0.374335       0.756287          C\n",
       "Kürşad -0.367385 -1.266360       1.668247          D"
      ]
     },
     "execution_count": 57,
     "metadata": {},
     "output_type": "execute_result"
    }
   ],
   "source": [
    "yeniDataFrame"
   ]
  },
  {
   "cell_type": "code",
   "execution_count": 58,
   "id": "c85cc6eb",
   "metadata": {},
   "outputs": [],
   "source": [
    "yeniDataFrame.set_index(\"Yeni İndex\",inplace=True)"
   ]
  },
  {
   "cell_type": "code",
   "execution_count": 59,
   "id": "a761b9a6",
   "metadata": {},
   "outputs": [
    {
     "data": {
      "text/html": [
       "<div>\n",
       "<style scoped>\n",
       "    .dataframe tbody tr th:only-of-type {\n",
       "        vertical-align: middle;\n",
       "    }\n",
       "\n",
       "    .dataframe tbody tr th {\n",
       "        vertical-align: top;\n",
       "    }\n",
       "\n",
       "    .dataframe thead th {\n",
       "        text-align: right;\n",
       "    }\n",
       "</style>\n",
       "<table border=\"1\" class=\"dataframe\">\n",
       "  <thead>\n",
       "    <tr style=\"text-align: right;\">\n",
       "      <th></th>\n",
       "      <th>Maaş</th>\n",
       "      <th>Yaş</th>\n",
       "      <th>Çalışma Saati</th>\n",
       "    </tr>\n",
       "    <tr>\n",
       "      <th>Yeni İndex</th>\n",
       "      <th></th>\n",
       "      <th></th>\n",
       "      <th></th>\n",
       "    </tr>\n",
       "  </thead>\n",
       "  <tbody>\n",
       "    <tr>\n",
       "      <th>A</th>\n",
       "      <td>-0.547405</td>\n",
       "      <td>-1.685409</td>\n",
       "      <td>-1.279960</td>\n",
       "    </tr>\n",
       "    <tr>\n",
       "      <th>B</th>\n",
       "      <td>1.083770</td>\n",
       "      <td>2.083374</td>\n",
       "      <td>-0.985915</td>\n",
       "    </tr>\n",
       "    <tr>\n",
       "      <th>C</th>\n",
       "      <td>0.512528</td>\n",
       "      <td>0.374335</td>\n",
       "      <td>0.756287</td>\n",
       "    </tr>\n",
       "    <tr>\n",
       "      <th>D</th>\n",
       "      <td>-0.367385</td>\n",
       "      <td>-1.266360</td>\n",
       "      <td>1.668247</td>\n",
       "    </tr>\n",
       "  </tbody>\n",
       "</table>\n",
       "</div>"
      ],
      "text/plain": [
       "                Maaş       Yaş  Çalışma Saati\n",
       "Yeni İndex                                   \n",
       "A          -0.547405 -1.685409      -1.279960\n",
       "B           1.083770  2.083374      -0.985915\n",
       "C           0.512528  0.374335       0.756287\n",
       "D          -0.367385 -1.266360       1.668247"
      ]
     },
     "execution_count": 59,
     "metadata": {},
     "output_type": "execute_result"
    }
   ],
   "source": [
    "yeniDataFrame"
   ]
  },
  {
   "cell_type": "code",
   "execution_count": 61,
   "id": "a34da45b",
   "metadata": {},
   "outputs": [
    {
     "data": {
      "text/plain": [
       "Maaş            -0.547405\n",
       "Yaş             -1.685409\n",
       "Çalışma Saati   -1.279960\n",
       "Name: A, dtype: float64"
      ]
     },
     "execution_count": 61,
     "metadata": {},
     "output_type": "execute_result"
    }
   ],
   "source": [
    "yeniDataFrame.loc[\"A\"]"
   ]
  },
  {
   "cell_type": "code",
   "execution_count": 62,
   "id": "261e38df",
   "metadata": {},
   "outputs": [],
   "source": [
    "ilkIndeksler = [\"Simpson\",\"Simpson\",\"Simpson\",\"South Park\",\"South Park\",\"South Park\"]"
   ]
  },
  {
   "cell_type": "code",
   "execution_count": 63,
   "id": "7f2b4e0f",
   "metadata": {},
   "outputs": [],
   "source": [
    "icIndeksler = [\"Homer\" , \"Bart\" , \"Marge\" , \"Cartman\" , \"Kenny\" , \"Kyle\"]"
   ]
  },
  {
   "cell_type": "code",
   "execution_count": 64,
   "id": "7e14fc27",
   "metadata": {},
   "outputs": [],
   "source": [
    "birlesmisIndeksler = list(zip(ilkIndeksler,icIndeksler))"
   ]
  },
  {
   "cell_type": "code",
   "execution_count": 65,
   "id": "b296d1ed",
   "metadata": {},
   "outputs": [
    {
     "data": {
      "text/plain": [
       "[('Simpson', 'Homer'),\n",
       " ('Simpson', 'Bart'),\n",
       " ('Simpson', 'Marge'),\n",
       " ('South Park', 'Cartman'),\n",
       " ('South Park', 'Kenny'),\n",
       " ('South Park', 'Kyle')]"
      ]
     },
     "execution_count": 65,
     "metadata": {},
     "output_type": "execute_result"
    }
   ],
   "source": [
    "birlesmisIndeksler"
   ]
  },
  {
   "cell_type": "code",
   "execution_count": 66,
   "id": "9b847cd0",
   "metadata": {},
   "outputs": [],
   "source": [
    "birlesmisIndeksler = pd.MultiIndex.from_tuples(birlesmisIndeksler)"
   ]
  },
  {
   "cell_type": "code",
   "execution_count": 67,
   "id": "6980b0be",
   "metadata": {},
   "outputs": [
    {
     "data": {
      "text/plain": [
       "MultiIndex([(   'Simpson',   'Homer'),\n",
       "            (   'Simpson',    'Bart'),\n",
       "            (   'Simpson',   'Marge'),\n",
       "            ('South Park', 'Cartman'),\n",
       "            ('South Park',   'Kenny'),\n",
       "            ('South Park',    'Kyle')],\n",
       "           )"
      ]
     },
     "execution_count": 67,
     "metadata": {},
     "output_type": "execute_result"
    }
   ],
   "source": [
    "birlesmisIndeksler"
   ]
  },
  {
   "cell_type": "code",
   "execution_count": 68,
   "id": "5d80778f",
   "metadata": {},
   "outputs": [],
   "source": [
    "benimCizgiFilmlistem = [[1,\"A\"] , [2,\"B\"] , [3,\"C\"] , [4,\"D\"] , [5,\"E\"] , [6,\"F\"]]"
   ]
  },
  {
   "cell_type": "code",
   "execution_count": 69,
   "id": "a221b41d",
   "metadata": {},
   "outputs": [],
   "source": [
    "cizgiFilmNumpyDizisi = np.array(benimCizgiFilmlistem)"
   ]
  },
  {
   "cell_type": "code",
   "execution_count": 70,
   "id": "a8e1a4f6",
   "metadata": {},
   "outputs": [
    {
     "data": {
      "text/plain": [
       "array([['1', 'A'],\n",
       "       ['2', 'B'],\n",
       "       ['3', 'C'],\n",
       "       ['4', 'D'],\n",
       "       ['5', 'E'],\n",
       "       ['6', 'F']], dtype='<U11')"
      ]
     },
     "execution_count": 70,
     "metadata": {},
     "output_type": "execute_result"
    }
   ],
   "source": [
    "cizgiFilmNumpyDizisi"
   ]
  },
  {
   "cell_type": "code",
   "execution_count": 73,
   "id": "247affb6",
   "metadata": {},
   "outputs": [],
   "source": [
    "cizgiFilmDataFrame = pd.DataFrame(cizgiFilmNumpyDizisi,index=birlesmisIndeksler,columns=[\"Yaş\" , \"Meslek\"])"
   ]
  },
  {
   "cell_type": "code",
   "execution_count": 74,
   "id": "e6118583",
   "metadata": {},
   "outputs": [
    {
     "data": {
      "text/html": [
       "<div>\n",
       "<style scoped>\n",
       "    .dataframe tbody tr th:only-of-type {\n",
       "        vertical-align: middle;\n",
       "    }\n",
       "\n",
       "    .dataframe tbody tr th {\n",
       "        vertical-align: top;\n",
       "    }\n",
       "\n",
       "    .dataframe thead th {\n",
       "        text-align: right;\n",
       "    }\n",
       "</style>\n",
       "<table border=\"1\" class=\"dataframe\">\n",
       "  <thead>\n",
       "    <tr style=\"text-align: right;\">\n",
       "      <th></th>\n",
       "      <th></th>\n",
       "      <th>Yaş</th>\n",
       "      <th>Meslek</th>\n",
       "    </tr>\n",
       "  </thead>\n",
       "  <tbody>\n",
       "    <tr>\n",
       "      <th rowspan=\"3\" valign=\"top\">Simpson</th>\n",
       "      <th>Homer</th>\n",
       "      <td>1</td>\n",
       "      <td>A</td>\n",
       "    </tr>\n",
       "    <tr>\n",
       "      <th>Bart</th>\n",
       "      <td>2</td>\n",
       "      <td>B</td>\n",
       "    </tr>\n",
       "    <tr>\n",
       "      <th>Marge</th>\n",
       "      <td>3</td>\n",
       "      <td>C</td>\n",
       "    </tr>\n",
       "    <tr>\n",
       "      <th rowspan=\"3\" valign=\"top\">South Park</th>\n",
       "      <th>Cartman</th>\n",
       "      <td>4</td>\n",
       "      <td>D</td>\n",
       "    </tr>\n",
       "    <tr>\n",
       "      <th>Kenny</th>\n",
       "      <td>5</td>\n",
       "      <td>E</td>\n",
       "    </tr>\n",
       "    <tr>\n",
       "      <th>Kyle</th>\n",
       "      <td>6</td>\n",
       "      <td>F</td>\n",
       "    </tr>\n",
       "  </tbody>\n",
       "</table>\n",
       "</div>"
      ],
      "text/plain": [
       "                   Yaş Meslek\n",
       "Simpson    Homer     1      A\n",
       "           Bart      2      B\n",
       "           Marge     3      C\n",
       "South Park Cartman   4      D\n",
       "           Kenny     5      E\n",
       "           Kyle      6      F"
      ]
     },
     "execution_count": 74,
     "metadata": {},
     "output_type": "execute_result"
    }
   ],
   "source": [
    "cizgiFilmDataFrame"
   ]
  },
  {
   "cell_type": "code",
   "execution_count": 76,
   "id": "85f4c4f8",
   "metadata": {},
   "outputs": [
    {
     "data": {
      "text/html": [
       "<div>\n",
       "<style scoped>\n",
       "    .dataframe tbody tr th:only-of-type {\n",
       "        vertical-align: middle;\n",
       "    }\n",
       "\n",
       "    .dataframe tbody tr th {\n",
       "        vertical-align: top;\n",
       "    }\n",
       "\n",
       "    .dataframe thead th {\n",
       "        text-align: right;\n",
       "    }\n",
       "</style>\n",
       "<table border=\"1\" class=\"dataframe\">\n",
       "  <thead>\n",
       "    <tr style=\"text-align: right;\">\n",
       "      <th></th>\n",
       "      <th>Yaş</th>\n",
       "      <th>Meslek</th>\n",
       "    </tr>\n",
       "  </thead>\n",
       "  <tbody>\n",
       "    <tr>\n",
       "      <th>Homer</th>\n",
       "      <td>1</td>\n",
       "      <td>A</td>\n",
       "    </tr>\n",
       "    <tr>\n",
       "      <th>Bart</th>\n",
       "      <td>2</td>\n",
       "      <td>B</td>\n",
       "    </tr>\n",
       "    <tr>\n",
       "      <th>Marge</th>\n",
       "      <td>3</td>\n",
       "      <td>C</td>\n",
       "    </tr>\n",
       "  </tbody>\n",
       "</table>\n",
       "</div>"
      ],
      "text/plain": [
       "      Yaş Meslek\n",
       "Homer   1      A\n",
       "Bart    2      B\n",
       "Marge   3      C"
      ]
     },
     "execution_count": 76,
     "metadata": {},
     "output_type": "execute_result"
    }
   ],
   "source": [
    "cizgiFilmDataFrame.loc[\"Simpson\"]"
   ]
  },
  {
   "cell_type": "code",
   "execution_count": 77,
   "id": "95f2b58d",
   "metadata": {},
   "outputs": [
    {
     "data": {
      "text/plain": [
       "Yaş       5\n",
       "Meslek    E\n",
       "Name: Kenny, dtype: object"
      ]
     },
     "execution_count": 77,
     "metadata": {},
     "output_type": "execute_result"
    }
   ],
   "source": [
    "cizgiFilmDataFrame.loc[\"South Park\"].loc[\"Kenny\"]"
   ]
  },
  {
   "cell_type": "code",
   "execution_count": 78,
   "id": "82eab356",
   "metadata": {},
   "outputs": [],
   "source": [
    "cizgiFilmDataFrame.index.names = [\"Film\",\"İsim\"]"
   ]
  },
  {
   "cell_type": "code",
   "execution_count": 79,
   "id": "85848524",
   "metadata": {},
   "outputs": [
    {
     "data": {
      "text/html": [
       "<div>\n",
       "<style scoped>\n",
       "    .dataframe tbody tr th:only-of-type {\n",
       "        vertical-align: middle;\n",
       "    }\n",
       "\n",
       "    .dataframe tbody tr th {\n",
       "        vertical-align: top;\n",
       "    }\n",
       "\n",
       "    .dataframe thead th {\n",
       "        text-align: right;\n",
       "    }\n",
       "</style>\n",
       "<table border=\"1\" class=\"dataframe\">\n",
       "  <thead>\n",
       "    <tr style=\"text-align: right;\">\n",
       "      <th></th>\n",
       "      <th></th>\n",
       "      <th>Yaş</th>\n",
       "      <th>Meslek</th>\n",
       "    </tr>\n",
       "    <tr>\n",
       "      <th>Film</th>\n",
       "      <th>İsim</th>\n",
       "      <th></th>\n",
       "      <th></th>\n",
       "    </tr>\n",
       "  </thead>\n",
       "  <tbody>\n",
       "    <tr>\n",
       "      <th rowspan=\"3\" valign=\"top\">Simpson</th>\n",
       "      <th>Homer</th>\n",
       "      <td>1</td>\n",
       "      <td>A</td>\n",
       "    </tr>\n",
       "    <tr>\n",
       "      <th>Bart</th>\n",
       "      <td>2</td>\n",
       "      <td>B</td>\n",
       "    </tr>\n",
       "    <tr>\n",
       "      <th>Marge</th>\n",
       "      <td>3</td>\n",
       "      <td>C</td>\n",
       "    </tr>\n",
       "    <tr>\n",
       "      <th rowspan=\"3\" valign=\"top\">South Park</th>\n",
       "      <th>Cartman</th>\n",
       "      <td>4</td>\n",
       "      <td>D</td>\n",
       "    </tr>\n",
       "    <tr>\n",
       "      <th>Kenny</th>\n",
       "      <td>5</td>\n",
       "      <td>E</td>\n",
       "    </tr>\n",
       "    <tr>\n",
       "      <th>Kyle</th>\n",
       "      <td>6</td>\n",
       "      <td>F</td>\n",
       "    </tr>\n",
       "  </tbody>\n",
       "</table>\n",
       "</div>"
      ],
      "text/plain": [
       "                   Yaş Meslek\n",
       "Film       İsim              \n",
       "Simpson    Homer     1      A\n",
       "           Bart      2      B\n",
       "           Marge     3      C\n",
       "South Park Cartman   4      D\n",
       "           Kenny     5      E\n",
       "           Kyle      6      F"
      ]
     },
     "execution_count": 79,
     "metadata": {},
     "output_type": "execute_result"
    }
   ],
   "source": [
    "cizgiFilmDataFrame"
   ]
  },
  {
   "cell_type": "code",
   "execution_count": 82,
   "id": "3baae70d",
   "metadata": {},
   "outputs": [],
   "source": [
    "sozlukVerisi = {\"Istanbul\" : [10,np.nan,30] , \"Ankara\" : [5,10,np.nan], \"İzmir\" : [1,2,3]}\n",
    "havaDurumuDataFrame = pd.DataFrame(sozlukVerisi)"
   ]
  },
  {
   "cell_type": "code",
   "execution_count": 83,
   "id": "005fb8b5",
   "metadata": {},
   "outputs": [
    {
     "data": {
      "text/html": [
       "<div>\n",
       "<style scoped>\n",
       "    .dataframe tbody tr th:only-of-type {\n",
       "        vertical-align: middle;\n",
       "    }\n",
       "\n",
       "    .dataframe tbody tr th {\n",
       "        vertical-align: top;\n",
       "    }\n",
       "\n",
       "    .dataframe thead th {\n",
       "        text-align: right;\n",
       "    }\n",
       "</style>\n",
       "<table border=\"1\" class=\"dataframe\">\n",
       "  <thead>\n",
       "    <tr style=\"text-align: right;\">\n",
       "      <th></th>\n",
       "      <th>Istanbul</th>\n",
       "      <th>Ankara</th>\n",
       "      <th>İzmir</th>\n",
       "    </tr>\n",
       "  </thead>\n",
       "  <tbody>\n",
       "    <tr>\n",
       "      <th>0</th>\n",
       "      <td>10.0</td>\n",
       "      <td>5.0</td>\n",
       "      <td>1</td>\n",
       "    </tr>\n",
       "    <tr>\n",
       "      <th>1</th>\n",
       "      <td>NaN</td>\n",
       "      <td>10.0</td>\n",
       "      <td>2</td>\n",
       "    </tr>\n",
       "    <tr>\n",
       "      <th>2</th>\n",
       "      <td>30.0</td>\n",
       "      <td>NaN</td>\n",
       "      <td>3</td>\n",
       "    </tr>\n",
       "  </tbody>\n",
       "</table>\n",
       "</div>"
      ],
      "text/plain": [
       "   Istanbul  Ankara  İzmir\n",
       "0      10.0     5.0      1\n",
       "1       NaN    10.0      2\n",
       "2      30.0     NaN      3"
      ]
     },
     "execution_count": 83,
     "metadata": {},
     "output_type": "execute_result"
    }
   ],
   "source": [
    "havaDurumuDataFrame"
   ]
  },
  {
   "cell_type": "code",
   "execution_count": 84,
   "id": "9eaec01e",
   "metadata": {},
   "outputs": [
    {
     "data": {
      "text/html": [
       "<div>\n",
       "<style scoped>\n",
       "    .dataframe tbody tr th:only-of-type {\n",
       "        vertical-align: middle;\n",
       "    }\n",
       "\n",
       "    .dataframe tbody tr th {\n",
       "        vertical-align: top;\n",
       "    }\n",
       "\n",
       "    .dataframe thead th {\n",
       "        text-align: right;\n",
       "    }\n",
       "</style>\n",
       "<table border=\"1\" class=\"dataframe\">\n",
       "  <thead>\n",
       "    <tr style=\"text-align: right;\">\n",
       "      <th></th>\n",
       "      <th>Istanbul</th>\n",
       "      <th>Ankara</th>\n",
       "      <th>İzmir</th>\n",
       "    </tr>\n",
       "  </thead>\n",
       "  <tbody>\n",
       "    <tr>\n",
       "      <th>0</th>\n",
       "      <td>10.0</td>\n",
       "      <td>5.0</td>\n",
       "      <td>1</td>\n",
       "    </tr>\n",
       "  </tbody>\n",
       "</table>\n",
       "</div>"
      ],
      "text/plain": [
       "   Istanbul  Ankara  İzmir\n",
       "0      10.0     5.0      1"
      ]
     },
     "execution_count": 84,
     "metadata": {},
     "output_type": "execute_result"
    }
   ],
   "source": [
    "havaDurumuDataFrame.dropna()"
   ]
  },
  {
   "cell_type": "code",
   "execution_count": 85,
   "id": "92be301b",
   "metadata": {},
   "outputs": [
    {
     "data": {
      "text/html": [
       "<div>\n",
       "<style scoped>\n",
       "    .dataframe tbody tr th:only-of-type {\n",
       "        vertical-align: middle;\n",
       "    }\n",
       "\n",
       "    .dataframe tbody tr th {\n",
       "        vertical-align: top;\n",
       "    }\n",
       "\n",
       "    .dataframe thead th {\n",
       "        text-align: right;\n",
       "    }\n",
       "</style>\n",
       "<table border=\"1\" class=\"dataframe\">\n",
       "  <thead>\n",
       "    <tr style=\"text-align: right;\">\n",
       "      <th></th>\n",
       "      <th>İzmir</th>\n",
       "    </tr>\n",
       "  </thead>\n",
       "  <tbody>\n",
       "    <tr>\n",
       "      <th>0</th>\n",
       "      <td>1</td>\n",
       "    </tr>\n",
       "    <tr>\n",
       "      <th>1</th>\n",
       "      <td>2</td>\n",
       "    </tr>\n",
       "    <tr>\n",
       "      <th>2</th>\n",
       "      <td>3</td>\n",
       "    </tr>\n",
       "  </tbody>\n",
       "</table>\n",
       "</div>"
      ],
      "text/plain": [
       "   İzmir\n",
       "0      1\n",
       "1      2\n",
       "2      3"
      ]
     },
     "execution_count": 85,
     "metadata": {},
     "output_type": "execute_result"
    }
   ],
   "source": [
    "havaDurumuDataFrame.dropna(axis=1)"
   ]
  },
  {
   "cell_type": "code",
   "execution_count": 86,
   "id": "fa62826b",
   "metadata": {},
   "outputs": [],
   "source": [
    "yeniSozlukVerisi = {\"Istanbul\" : [10,np.nan,30] , \"Ankara\" : [5,10,np.nan], \"İzmir\" : [1,2,3],\"Antalya\":[45,np.nan,np.nan]}\n",
    "yeniHavaDurumuDataFrame = pd.DataFrame(yeniSozlukVerisi)"
   ]
  },
  {
   "cell_type": "code",
   "execution_count": 87,
   "id": "e8a486c9",
   "metadata": {},
   "outputs": [
    {
     "data": {
      "text/html": [
       "<div>\n",
       "<style scoped>\n",
       "    .dataframe tbody tr th:only-of-type {\n",
       "        vertical-align: middle;\n",
       "    }\n",
       "\n",
       "    .dataframe tbody tr th {\n",
       "        vertical-align: top;\n",
       "    }\n",
       "\n",
       "    .dataframe thead th {\n",
       "        text-align: right;\n",
       "    }\n",
       "</style>\n",
       "<table border=\"1\" class=\"dataframe\">\n",
       "  <thead>\n",
       "    <tr style=\"text-align: right;\">\n",
       "      <th></th>\n",
       "      <th>Istanbul</th>\n",
       "      <th>Ankara</th>\n",
       "      <th>İzmir</th>\n",
       "      <th>Antalya</th>\n",
       "    </tr>\n",
       "  </thead>\n",
       "  <tbody>\n",
       "    <tr>\n",
       "      <th>0</th>\n",
       "      <td>10.0</td>\n",
       "      <td>5.0</td>\n",
       "      <td>1</td>\n",
       "      <td>45.0</td>\n",
       "    </tr>\n",
       "    <tr>\n",
       "      <th>1</th>\n",
       "      <td>NaN</td>\n",
       "      <td>10.0</td>\n",
       "      <td>2</td>\n",
       "      <td>NaN</td>\n",
       "    </tr>\n",
       "    <tr>\n",
       "      <th>2</th>\n",
       "      <td>30.0</td>\n",
       "      <td>NaN</td>\n",
       "      <td>3</td>\n",
       "      <td>NaN</td>\n",
       "    </tr>\n",
       "  </tbody>\n",
       "</table>\n",
       "</div>"
      ],
      "text/plain": [
       "   Istanbul  Ankara  İzmir  Antalya\n",
       "0      10.0     5.0      1     45.0\n",
       "1       NaN    10.0      2      NaN\n",
       "2      30.0     NaN      3      NaN"
      ]
     },
     "execution_count": 87,
     "metadata": {},
     "output_type": "execute_result"
    }
   ],
   "source": [
    "yeniHavaDurumuDataFrame"
   ]
  },
  {
   "cell_type": "code",
   "execution_count": 88,
   "id": "fa78ca93",
   "metadata": {},
   "outputs": [
    {
     "data": {
      "text/html": [
       "<div>\n",
       "<style scoped>\n",
       "    .dataframe tbody tr th:only-of-type {\n",
       "        vertical-align: middle;\n",
       "    }\n",
       "\n",
       "    .dataframe tbody tr th {\n",
       "        vertical-align: top;\n",
       "    }\n",
       "\n",
       "    .dataframe thead th {\n",
       "        text-align: right;\n",
       "    }\n",
       "</style>\n",
       "<table border=\"1\" class=\"dataframe\">\n",
       "  <thead>\n",
       "    <tr style=\"text-align: right;\">\n",
       "      <th></th>\n",
       "      <th>Istanbul</th>\n",
       "      <th>Ankara</th>\n",
       "      <th>İzmir</th>\n",
       "    </tr>\n",
       "  </thead>\n",
       "  <tbody>\n",
       "    <tr>\n",
       "      <th>0</th>\n",
       "      <td>10.0</td>\n",
       "      <td>5.0</td>\n",
       "      <td>1</td>\n",
       "    </tr>\n",
       "    <tr>\n",
       "      <th>1</th>\n",
       "      <td>NaN</td>\n",
       "      <td>10.0</td>\n",
       "      <td>2</td>\n",
       "    </tr>\n",
       "    <tr>\n",
       "      <th>2</th>\n",
       "      <td>30.0</td>\n",
       "      <td>NaN</td>\n",
       "      <td>3</td>\n",
       "    </tr>\n",
       "  </tbody>\n",
       "</table>\n",
       "</div>"
      ],
      "text/plain": [
       "   Istanbul  Ankara  İzmir\n",
       "0      10.0     5.0      1\n",
       "1       NaN    10.0      2\n",
       "2      30.0     NaN      3"
      ]
     },
     "execution_count": 88,
     "metadata": {},
     "output_type": "execute_result"
    }
   ],
   "source": [
    "yeniHavaDurumuDataFrame.dropna(axis=1,thresh=2)"
   ]
  },
  {
   "cell_type": "code",
   "execution_count": 89,
   "id": "a5173121",
   "metadata": {},
   "outputs": [
    {
     "data": {
      "text/html": [
       "<div>\n",
       "<style scoped>\n",
       "    .dataframe tbody tr th:only-of-type {\n",
       "        vertical-align: middle;\n",
       "    }\n",
       "\n",
       "    .dataframe tbody tr th {\n",
       "        vertical-align: top;\n",
       "    }\n",
       "\n",
       "    .dataframe thead th {\n",
       "        text-align: right;\n",
       "    }\n",
       "</style>\n",
       "<table border=\"1\" class=\"dataframe\">\n",
       "  <thead>\n",
       "    <tr style=\"text-align: right;\">\n",
       "      <th></th>\n",
       "      <th>Istanbul</th>\n",
       "      <th>Ankara</th>\n",
       "      <th>İzmir</th>\n",
       "      <th>Antalya</th>\n",
       "    </tr>\n",
       "  </thead>\n",
       "  <tbody>\n",
       "    <tr>\n",
       "      <th>0</th>\n",
       "      <td>10.0</td>\n",
       "      <td>5.0</td>\n",
       "      <td>1</td>\n",
       "      <td>45.0</td>\n",
       "    </tr>\n",
       "    <tr>\n",
       "      <th>1</th>\n",
       "      <td>20.0</td>\n",
       "      <td>10.0</td>\n",
       "      <td>2</td>\n",
       "      <td>20.0</td>\n",
       "    </tr>\n",
       "    <tr>\n",
       "      <th>2</th>\n",
       "      <td>30.0</td>\n",
       "      <td>20.0</td>\n",
       "      <td>3</td>\n",
       "      <td>20.0</td>\n",
       "    </tr>\n",
       "  </tbody>\n",
       "</table>\n",
       "</div>"
      ],
      "text/plain": [
       "   Istanbul  Ankara  İzmir  Antalya\n",
       "0      10.0     5.0      1     45.0\n",
       "1      20.0    10.0      2     20.0\n",
       "2      30.0    20.0      3     20.0"
      ]
     },
     "execution_count": 89,
     "metadata": {},
     "output_type": "execute_result"
    }
   ],
   "source": [
    "yeniHavaDurumuDataFrame.fillna(20)"
   ]
  },
  {
   "cell_type": "markdown",
   "id": "71d4ad91",
   "metadata": {},
   "source": [
    "## groupby"
   ]
  },
  {
   "cell_type": "code",
   "execution_count": 91,
   "id": "364cbcda",
   "metadata": {},
   "outputs": [],
   "source": [
    "maasSozluk = {\n",
    "                \"Departman\":[\"Yazılım\",\"Yazılım\",\"Pazarlama\",\"Pazarlama\",\"Hukuk\",\"Hukuk\"],\n",
    "                \"Calisan Ismi\":[\"Ali\",\"Ayse\",\"Emir\",\"Fatma\",\"Zeynep\",\"Aybuke\"],\n",
    "                \"Maas\" : [100,200,300,400,500,600]\n",
    "}"
   ]
  },
  {
   "cell_type": "code",
   "execution_count": 92,
   "id": "3b4edd1d",
   "metadata": {},
   "outputs": [],
   "source": [
    "maasDataFrame = pd.DataFrame(maasSozluk)"
   ]
  },
  {
   "cell_type": "code",
   "execution_count": 93,
   "id": "ec2c7d07",
   "metadata": {},
   "outputs": [
    {
     "data": {
      "text/html": [
       "<div>\n",
       "<style scoped>\n",
       "    .dataframe tbody tr th:only-of-type {\n",
       "        vertical-align: middle;\n",
       "    }\n",
       "\n",
       "    .dataframe tbody tr th {\n",
       "        vertical-align: top;\n",
       "    }\n",
       "\n",
       "    .dataframe thead th {\n",
       "        text-align: right;\n",
       "    }\n",
       "</style>\n",
       "<table border=\"1\" class=\"dataframe\">\n",
       "  <thead>\n",
       "    <tr style=\"text-align: right;\">\n",
       "      <th></th>\n",
       "      <th>Departman</th>\n",
       "      <th>Calisan Ismi</th>\n",
       "      <th>Maas</th>\n",
       "    </tr>\n",
       "  </thead>\n",
       "  <tbody>\n",
       "    <tr>\n",
       "      <th>0</th>\n",
       "      <td>Yazılım</td>\n",
       "      <td>Ali</td>\n",
       "      <td>100</td>\n",
       "    </tr>\n",
       "    <tr>\n",
       "      <th>1</th>\n",
       "      <td>Yazılım</td>\n",
       "      <td>Ayse</td>\n",
       "      <td>200</td>\n",
       "    </tr>\n",
       "    <tr>\n",
       "      <th>2</th>\n",
       "      <td>Pazarlama</td>\n",
       "      <td>Emir</td>\n",
       "      <td>300</td>\n",
       "    </tr>\n",
       "    <tr>\n",
       "      <th>3</th>\n",
       "      <td>Pazarlama</td>\n",
       "      <td>Fatma</td>\n",
       "      <td>400</td>\n",
       "    </tr>\n",
       "    <tr>\n",
       "      <th>4</th>\n",
       "      <td>Hukuk</td>\n",
       "      <td>Zeynep</td>\n",
       "      <td>500</td>\n",
       "    </tr>\n",
       "    <tr>\n",
       "      <th>5</th>\n",
       "      <td>Hukuk</td>\n",
       "      <td>Aybuke</td>\n",
       "      <td>600</td>\n",
       "    </tr>\n",
       "  </tbody>\n",
       "</table>\n",
       "</div>"
      ],
      "text/plain": [
       "   Departman Calisan Ismi  Maas\n",
       "0    Yazılım          Ali   100\n",
       "1    Yazılım         Ayse   200\n",
       "2  Pazarlama         Emir   300\n",
       "3  Pazarlama        Fatma   400\n",
       "4      Hukuk       Zeynep   500\n",
       "5      Hukuk       Aybuke   600"
      ]
     },
     "execution_count": 93,
     "metadata": {},
     "output_type": "execute_result"
    }
   ],
   "source": [
    "maasDataFrame"
   ]
  },
  {
   "cell_type": "code",
   "execution_count": 94,
   "id": "8161addc",
   "metadata": {},
   "outputs": [],
   "source": [
    "grupObjesi = maasDataFrame.groupby(\"Departman\")"
   ]
  },
  {
   "cell_type": "code",
   "execution_count": 95,
   "id": "01308aa7",
   "metadata": {},
   "outputs": [
    {
     "data": {
      "text/html": [
       "<div>\n",
       "<style scoped>\n",
       "    .dataframe tbody tr th:only-of-type {\n",
       "        vertical-align: middle;\n",
       "    }\n",
       "\n",
       "    .dataframe tbody tr th {\n",
       "        vertical-align: top;\n",
       "    }\n",
       "\n",
       "    .dataframe thead th {\n",
       "        text-align: right;\n",
       "    }\n",
       "</style>\n",
       "<table border=\"1\" class=\"dataframe\">\n",
       "  <thead>\n",
       "    <tr style=\"text-align: right;\">\n",
       "      <th></th>\n",
       "      <th>Calisan Ismi</th>\n",
       "      <th>Maas</th>\n",
       "    </tr>\n",
       "    <tr>\n",
       "      <th>Departman</th>\n",
       "      <th></th>\n",
       "      <th></th>\n",
       "    </tr>\n",
       "  </thead>\n",
       "  <tbody>\n",
       "    <tr>\n",
       "      <th>Hukuk</th>\n",
       "      <td>2</td>\n",
       "      <td>2</td>\n",
       "    </tr>\n",
       "    <tr>\n",
       "      <th>Pazarlama</th>\n",
       "      <td>2</td>\n",
       "      <td>2</td>\n",
       "    </tr>\n",
       "    <tr>\n",
       "      <th>Yazılım</th>\n",
       "      <td>2</td>\n",
       "      <td>2</td>\n",
       "    </tr>\n",
       "  </tbody>\n",
       "</table>\n",
       "</div>"
      ],
      "text/plain": [
       "           Calisan Ismi  Maas\n",
       "Departman                    \n",
       "Hukuk                 2     2\n",
       "Pazarlama             2     2\n",
       "Yazılım               2     2"
      ]
     },
     "execution_count": 95,
     "metadata": {},
     "output_type": "execute_result"
    }
   ],
   "source": [
    "grupObjesi.count()"
   ]
  },
  {
   "cell_type": "code",
   "execution_count": 98,
   "id": "f21f96d1",
   "metadata": {},
   "outputs": [
    {
     "data": {
      "text/html": [
       "<div>\n",
       "<style scoped>\n",
       "    .dataframe tbody tr th:only-of-type {\n",
       "        vertical-align: middle;\n",
       "    }\n",
       "\n",
       "    .dataframe tbody tr th {\n",
       "        vertical-align: top;\n",
       "    }\n",
       "\n",
       "    .dataframe thead th {\n",
       "        text-align: right;\n",
       "    }\n",
       "</style>\n",
       "<table border=\"1\" class=\"dataframe\">\n",
       "  <thead>\n",
       "    <tr style=\"text-align: right;\">\n",
       "      <th></th>\n",
       "      <th>Maas</th>\n",
       "    </tr>\n",
       "    <tr>\n",
       "      <th>Departman</th>\n",
       "      <th></th>\n",
       "    </tr>\n",
       "  </thead>\n",
       "  <tbody>\n",
       "    <tr>\n",
       "      <th>Hukuk</th>\n",
       "      <td>550.0</td>\n",
       "    </tr>\n",
       "    <tr>\n",
       "      <th>Pazarlama</th>\n",
       "      <td>350.0</td>\n",
       "    </tr>\n",
       "    <tr>\n",
       "      <th>Yazılım</th>\n",
       "      <td>150.0</td>\n",
       "    </tr>\n",
       "  </tbody>\n",
       "</table>\n",
       "</div>"
      ],
      "text/plain": [
       "            Maas\n",
       "Departman       \n",
       "Hukuk      550.0\n",
       "Pazarlama  350.0\n",
       "Yazılım    150.0"
      ]
     },
     "execution_count": 98,
     "metadata": {},
     "output_type": "execute_result"
    }
   ],
   "source": [
    "grupObjesi.mean(\"Departman\")"
   ]
  },
  {
   "cell_type": "code",
   "execution_count": 99,
   "id": "fd099cb7",
   "metadata": {},
   "outputs": [
    {
     "data": {
      "text/html": [
       "<div>\n",
       "<style scoped>\n",
       "    .dataframe tbody tr th:only-of-type {\n",
       "        vertical-align: middle;\n",
       "    }\n",
       "\n",
       "    .dataframe tbody tr th {\n",
       "        vertical-align: top;\n",
       "    }\n",
       "\n",
       "    .dataframe thead th {\n",
       "        text-align: right;\n",
       "    }\n",
       "</style>\n",
       "<table border=\"1\" class=\"dataframe\">\n",
       "  <thead>\n",
       "    <tr style=\"text-align: right;\">\n",
       "      <th></th>\n",
       "      <th>Calisan Ismi</th>\n",
       "      <th>Maas</th>\n",
       "    </tr>\n",
       "    <tr>\n",
       "      <th>Departman</th>\n",
       "      <th></th>\n",
       "      <th></th>\n",
       "    </tr>\n",
       "  </thead>\n",
       "  <tbody>\n",
       "    <tr>\n",
       "      <th>Hukuk</th>\n",
       "      <td>Zeynep</td>\n",
       "      <td>600</td>\n",
       "    </tr>\n",
       "    <tr>\n",
       "      <th>Pazarlama</th>\n",
       "      <td>Fatma</td>\n",
       "      <td>400</td>\n",
       "    </tr>\n",
       "    <tr>\n",
       "      <th>Yazılım</th>\n",
       "      <td>Ayse</td>\n",
       "      <td>200</td>\n",
       "    </tr>\n",
       "  </tbody>\n",
       "</table>\n",
       "</div>"
      ],
      "text/plain": [
       "          Calisan Ismi  Maas\n",
       "Departman                   \n",
       "Hukuk           Zeynep   600\n",
       "Pazarlama        Fatma   400\n",
       "Yazılım           Ayse   200"
      ]
     },
     "execution_count": 99,
     "metadata": {},
     "output_type": "execute_result"
    }
   ],
   "source": [
    "grupObjesi.max()"
   ]
  },
  {
   "cell_type": "code",
   "execution_count": 100,
   "id": "788e72b4",
   "metadata": {},
   "outputs": [
    {
     "data": {
      "text/html": [
       "<div>\n",
       "<style scoped>\n",
       "    .dataframe tbody tr th:only-of-type {\n",
       "        vertical-align: middle;\n",
       "    }\n",
       "\n",
       "    .dataframe tbody tr th {\n",
       "        vertical-align: top;\n",
       "    }\n",
       "\n",
       "    .dataframe thead th {\n",
       "        text-align: right;\n",
       "    }\n",
       "</style>\n",
       "<table border=\"1\" class=\"dataframe\">\n",
       "  <thead>\n",
       "    <tr style=\"text-align: right;\">\n",
       "      <th></th>\n",
       "      <th>Calisan Ismi</th>\n",
       "      <th>Maas</th>\n",
       "    </tr>\n",
       "    <tr>\n",
       "      <th>Departman</th>\n",
       "      <th></th>\n",
       "      <th></th>\n",
       "    </tr>\n",
       "  </thead>\n",
       "  <tbody>\n",
       "    <tr>\n",
       "      <th>Hukuk</th>\n",
       "      <td>Aybuke</td>\n",
       "      <td>500</td>\n",
       "    </tr>\n",
       "    <tr>\n",
       "      <th>Pazarlama</th>\n",
       "      <td>Emir</td>\n",
       "      <td>300</td>\n",
       "    </tr>\n",
       "    <tr>\n",
       "      <th>Yazılım</th>\n",
       "      <td>Ali</td>\n",
       "      <td>100</td>\n",
       "    </tr>\n",
       "  </tbody>\n",
       "</table>\n",
       "</div>"
      ],
      "text/plain": [
       "          Calisan Ismi  Maas\n",
       "Departman                   \n",
       "Hukuk           Aybuke   500\n",
       "Pazarlama         Emir   300\n",
       "Yazılım            Ali   100"
      ]
     },
     "execution_count": 100,
     "metadata": {},
     "output_type": "execute_result"
    }
   ],
   "source": [
    "grupObjesi.min()"
   ]
  },
  {
   "cell_type": "code",
   "execution_count": 101,
   "id": "0ff258a7",
   "metadata": {},
   "outputs": [
    {
     "data": {
      "text/html": [
       "<div>\n",
       "<style scoped>\n",
       "    .dataframe tbody tr th:only-of-type {\n",
       "        vertical-align: middle;\n",
       "    }\n",
       "\n",
       "    .dataframe tbody tr th {\n",
       "        vertical-align: top;\n",
       "    }\n",
       "\n",
       "    .dataframe thead tr th {\n",
       "        text-align: left;\n",
       "    }\n",
       "\n",
       "    .dataframe thead tr:last-of-type th {\n",
       "        text-align: right;\n",
       "    }\n",
       "</style>\n",
       "<table border=\"1\" class=\"dataframe\">\n",
       "  <thead>\n",
       "    <tr>\n",
       "      <th></th>\n",
       "      <th colspan=\"8\" halign=\"left\">Maas</th>\n",
       "    </tr>\n",
       "    <tr>\n",
       "      <th></th>\n",
       "      <th>count</th>\n",
       "      <th>mean</th>\n",
       "      <th>std</th>\n",
       "      <th>min</th>\n",
       "      <th>25%</th>\n",
       "      <th>50%</th>\n",
       "      <th>75%</th>\n",
       "      <th>max</th>\n",
       "    </tr>\n",
       "    <tr>\n",
       "      <th>Departman</th>\n",
       "      <th></th>\n",
       "      <th></th>\n",
       "      <th></th>\n",
       "      <th></th>\n",
       "      <th></th>\n",
       "      <th></th>\n",
       "      <th></th>\n",
       "      <th></th>\n",
       "    </tr>\n",
       "  </thead>\n",
       "  <tbody>\n",
       "    <tr>\n",
       "      <th>Hukuk</th>\n",
       "      <td>2.0</td>\n",
       "      <td>550.0</td>\n",
       "      <td>70.710678</td>\n",
       "      <td>500.0</td>\n",
       "      <td>525.0</td>\n",
       "      <td>550.0</td>\n",
       "      <td>575.0</td>\n",
       "      <td>600.0</td>\n",
       "    </tr>\n",
       "    <tr>\n",
       "      <th>Pazarlama</th>\n",
       "      <td>2.0</td>\n",
       "      <td>350.0</td>\n",
       "      <td>70.710678</td>\n",
       "      <td>300.0</td>\n",
       "      <td>325.0</td>\n",
       "      <td>350.0</td>\n",
       "      <td>375.0</td>\n",
       "      <td>400.0</td>\n",
       "    </tr>\n",
       "    <tr>\n",
       "      <th>Yazılım</th>\n",
       "      <td>2.0</td>\n",
       "      <td>150.0</td>\n",
       "      <td>70.710678</td>\n",
       "      <td>100.0</td>\n",
       "      <td>125.0</td>\n",
       "      <td>150.0</td>\n",
       "      <td>175.0</td>\n",
       "      <td>200.0</td>\n",
       "    </tr>\n",
       "  </tbody>\n",
       "</table>\n",
       "</div>"
      ],
      "text/plain": [
       "           Maas                                                     \n",
       "          count   mean        std    min    25%    50%    75%    max\n",
       "Departman                                                           \n",
       "Hukuk       2.0  550.0  70.710678  500.0  525.0  550.0  575.0  600.0\n",
       "Pazarlama   2.0  350.0  70.710678  300.0  325.0  350.0  375.0  400.0\n",
       "Yazılım     2.0  150.0  70.710678  100.0  125.0  150.0  175.0  200.0"
      ]
     },
     "execution_count": 101,
     "metadata": {},
     "output_type": "execute_result"
    }
   ],
   "source": [
    "grupObjesi.describe()"
   ]
  },
  {
   "cell_type": "code",
   "execution_count": null,
   "id": "965a2b9d",
   "metadata": {},
   "outputs": [],
   "source": []
  }
 ],
 "metadata": {
  "kernelspec": {
   "display_name": "Python 3 (ipykernel)",
   "language": "python",
   "name": "python3"
  },
  "language_info": {
   "codemirror_mode": {
    "name": "ipython",
    "version": 3
   },
   "file_extension": ".py",
   "mimetype": "text/x-python",
   "name": "python",
   "nbconvert_exporter": "python",
   "pygments_lexer": "ipython3",
   "version": "3.11.5"
  }
 },
 "nbformat": 4,
 "nbformat_minor": 5
}
